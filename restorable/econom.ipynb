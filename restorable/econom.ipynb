{
 "cells": [
  {
   "cell_type": "markdown",
   "id": "5f841342",
   "metadata": {},
   "source": [
    "# Экономическая оптимизация восстановления"
   ]
  },
  {
   "cell_type": "code",
   "execution_count": 1,
   "id": "b6edab46",
   "metadata": {},
   "outputs": [],
   "source": [
    "# Импорт библиотек и настройка среды\n",
    "%matplotlib inline\n",
    "%precision 3\n",
    "from numpy import matrix, linspace, ravel\n",
    "\n",
    "from IPython.display import Image\n",
    "%config InlineBackend.figure_formats = ['svg']  #установить векторный формат для графиков"
   ]
  },
  {
   "cell_type": "markdown",
   "id": "c0ef8ef6",
   "metadata": {},
   "source": [
    "## Постановка задачи"
   ]
  },
  {
   "cell_type": "markdown",
   "id": "de156623",
   "metadata": {},
   "source": [
    "Некоторая техническая система состоит из двух одинаковых блоков. Для работоспособности\n",
    "системы достаточно только одного блока, однако второй постоянно включен в режиме горячего\n",
    "резерва. Если оба блока работают, то нагрузка равномерно распределяется между ними.\n",
    "\n",
    "Характеристики надежности блоков: средняя наработка на отказ $\\bar{t} = 1000$ часов, среднее время\n",
    "восстановления отказавшего блока - $t_в = 50$ часов.\n",
    "\n",
    "Для обслуживания системы имеется одна ремонтная бригада, которая может одновременно\n",
    "восстанавливать один блок.\n",
    "\n",
    "Час простоя системы при отказе обоих блоков обходится в 200 тыс. рублей.\n",
    "Затраты на содержание ремонтной бригады составляют 1 200 тыс. рублей в год (заработная плата\n",
    "инженера и двух рабочих + расходные материалы)."
   ]
  },
  {
   "cell_type": "code",
   "execution_count": 2,
   "id": "bb7f276b",
   "metadata": {},
   "outputs": [
    {
     "data": {
      "image/png": "[encoded data removed]",
      "text/plain": [
       "<IPython.core.display.Image object>"
      ]
     },
     "execution_count": 2,
     "metadata": {},
     "output_type": "execute_result"
    }
   ],
   "source": [
    "Image('pics/2app.png', embed=True)"
   ]
  },
  {
   "cell_type": "markdown",
   "id": "e415952d",
   "metadata": {},
   "source": [
    "\n",
    "Интенсивность отказов и восстановления аппаратов: \n",
    "\n",
    "$$\\lambda = \\frac{1}{\\bar{t}}$$\n",
    "\n",
    "\n",
    "$$\\mu = \\frac{1}{t_в} $$\n",
    "\n",
    "\n",
    "Потоки событий в системе - простейшие."
   ]
  },
  {
   "cell_type": "code",
   "execution_count": 3,
   "id": "616980ca",
   "metadata": {},
   "outputs": [],
   "source": [
    "lambda1 = 1/1000 #Интенсивность отказов\n",
    "mu1 = 1/50 #Интенсивность восстановления\n",
    "C_prost = 200 #затраты из-за простоя системы, тыс. руб/час\n",
    "C_brig = 1200 #затраты на содержание ремонтной бригады"
   ]
  },
  {
   "cell_type": "markdown",
   "id": "18da49e9",
   "metadata": {},
   "source": [
    "## Моделирование системы с одной обслуживающей бригадой"
   ]
  },
  {
   "cell_type": "markdown",
   "id": "92e4f344",
   "metadata": {},
   "source": [
    "### Граф состояний"
   ]
  },
  {
   "cell_type": "code",
   "execution_count": 4,
   "id": "c4d81edb",
   "metadata": {},
   "outputs": [
    {
     "data": {
      "image/png": "[encoded data removed]",
      "text/plain": [
       "<IPython.core.display.Image object>"
      ]
     },
     "execution_count": 4,
     "metadata": {},
     "output_type": "execute_result"
    }
   ],
   "source": [
    "Image('pics/econom_1br.png', embed=True)"
   ]
  },
  {
   "cell_type": "markdown",
   "id": "8ba293c6",
   "metadata": {},
   "source": [
    "\n",
    " - $S_0$ - оба аппарата исправны\n",
    " - $S_1$ - отказал 1 аппарат\n",
    " - $S_2$ - отказ системы"
   ]
  },
  {
   "cell_type": "markdown",
   "id": "c936524e",
   "metadata": {},
   "source": [
    "### Система уравнений Колмогорова\n",
    "\\begin{equation}\n",
    "    \\left\\{\n",
    "        \\begin{aligned}\n",
    "            -2\\lambda_1 P_0 +  \\mu_1 P_1 & = 0 \\\\\n",
    "            2\\lambda_1 P_0 - (\\mu_1 + \\lambda_1) P_1 + \\mu_1 P_2 & = 0\\\\\n",
    "            P_0 + P_1 + P_2 & = 1\\\\\n",
    "        \\end{aligned}\n",
    "    \\right.\n",
    "\\end{equation}"
   ]
  },
  {
   "cell_type": "markdown",
   "id": "49d500f0",
   "metadata": {},
   "source": [
    "Предельные вероятности состояний можно найти, решив систему линейных уравнений для стационарного режима"
   ]
  },
  {
   "cell_type": "code",
   "execution_count": 5,
   "id": "d80cc612",
   "metadata": {},
   "outputs": [
    {
     "name": "stdout",
     "output_type": "stream",
     "text": [
      "Предельные вероятности состояний: P =  [0.905 0.09  0.005]\n"
     ]
    }
   ],
   "source": [
    "A = matrix([[-2*lambda1, mu1, 0],\n",
    "            [2*lambda1, -(mu1 + lambda1), mu1],\n",
    "            [1, 1, 1]]\n",
    "           )\n",
    "\n",
    "B = matrix([[0],\n",
    "            [0],\n",
    "            [1]])\n",
    "\n",
    "P = A.I * B\n",
    "\n",
    "# В результате решения системы получается вектор-столбец - матрица с 2 строками и 1 столбцом\n",
    "# здесь она преобразуется в одномерный массив для упрощения индексации\n",
    "P = ravel(P) \n",
    "\n",
    "print('Предельные вероятности состояний: P = ', P)"
   ]
  },
  {
   "cell_type": "markdown",
   "id": "30beb9a2",
   "metadata": {},
   "source": [
    "###Расчет экономических показателей"
   ]
  },
  {
   "cell_type": "code",
   "execution_count": 6,
   "id": "30561cb7",
   "metadata": {},
   "outputs": [
    {
     "data": {
      "text/plain": [
       "39.638009049773835"
      ]
     },
     "execution_count": 6,
     "metadata": {},
     "output_type": "execute_result"
    }
   ],
   "source": [
    "#Время простоя, часов в год\n",
    "\n",
    "T = 365 * 24 #число часов в году\n",
    "\n",
    "prostoi1 = P[2] * T\n",
    "prostoi1"
   ]
  },
  {
   "cell_type": "code",
   "execution_count": 7,
   "id": "1978e9b3",
   "metadata": {},
   "outputs": [
    {
     "data": {
      "text/plain": [
       "9127.601809954767"
      ]
     },
     "execution_count": 7,
     "metadata": {},
     "output_type": "execute_result"
    }
   ],
   "source": [
    "#Совокупные затраты - потери из-за простоя системы + содержание одной ремонтной бригады\n",
    "zatraty1 = prostoi1 * C_prost + C_brig\n",
    "zatraty1"
   ]
  },
  {
   "cell_type": "markdown",
   "id": "e4facb69",
   "metadata": {},
   "source": [
    "## Моделирование системы с двумя обслуживающими бригадами"
   ]
  },
  {
   "cell_type": "markdown",
   "id": "096fc3ec",
   "metadata": {},
   "source": [
    "### Граф состояний для системы с двумя обслуживающими бригадами"
   ]
  },
  {
   "cell_type": "code",
   "execution_count": 8,
   "id": "a8dcf469",
   "metadata": {},
   "outputs": [
    {
     "data": {
      "image/png": "[encoded data removed]",
      "text/plain": [
       "<IPython.core.display.Image object>"
      ]
     },
     "execution_count": 8,
     "metadata": {},
     "output_type": "execute_result"
    }
   ],
   "source": [
    "Image('pics/econom_2br.png', embed=True)"
   ]
  },
  {
   "cell_type": "markdown",
   "id": "d81cf375",
   "metadata": {},
   "source": [
    " - $S_0$ - оба аппарата исправны\n",
    " - $S_1$ - отказал 1 аппарат\n",
    " - $S_2$ - отказ системы"
   ]
  },
  {
   "cell_type": "markdown",
   "id": "8e6312e3",
   "metadata": {},
   "source": [
    "### Система уравнений Колмогорова\n",
    "\\begin{equation}\n",
    "    \\left\\{\n",
    "        \\begin{aligned}\n",
    "            -2\\lambda_1 P_0 +  \\mu_1 P_1 & = 0 \\\\\n",
    "            2\\lambda_1 P_0 - (\\mu_1 + \\lambda_1) P_1 + 2\\mu_1 P_2 & = 0\\\\\n",
    "            P_0 + P_1 + P_2 & = 1\\\\\n",
    "        \\end{aligned}\n",
    "    \\right.\n",
    "\\end{equation}"
   ]
  },
  {
   "cell_type": "code",
   "execution_count": 9,
   "id": "21f682e1",
   "metadata": {},
   "outputs": [
    {
     "name": "stdout",
     "output_type": "stream",
     "text": [
      "Предельные вероятности состояний: P =  [0.907 0.091 0.002]\n"
     ]
    }
   ],
   "source": [
    "A = matrix([[-2*lambda1, mu1, 0],\n",
    "            [2*lambda1, -(mu1 + lambda1), 2*mu1],\n",
    "            [1, 1, 1]]\n",
    "           )\n",
    "\n",
    "B = matrix([[0],\n",
    "            [0],\n",
    "            [1]])\n",
    "\n",
    "P = A.I * B\n",
    "\n",
    "# В результате решения системы получается вектор-столбец - матрица с 2 строками и 1 столбцом\n",
    "# здесь она преобразуется в одномерный массив для упрощения индексации\n",
    "P = ravel(P) \n",
    "\n",
    "print('Предельные вероятности состояний: P = ', P)"
   ]
  },
  {
   "cell_type": "code",
   "execution_count": 10,
   "id": "5d6cdb6e",
   "metadata": {},
   "outputs": [
    {
     "name": "stdout",
     "output_type": "stream",
     "text": [
      "Простой: 19 час\n"
     ]
    }
   ],
   "source": [
    "prostoi2 = P[2] * T\n",
    "print(\"Простой: %d час\" % prostoi2)"
   ]
  },
  {
   "cell_type": "code",
   "execution_count": 11,
   "id": "1a35a0e9",
   "metadata": {},
   "outputs": [
    {
     "name": "stdout",
     "output_type": "stream",
     "text": [
      "Затраты для системы с двумя бригадами: 6372 тыс. руб.\n"
     ]
    }
   ],
   "source": [
    "zatraty2 = prostoi2 * C_prost + 2 * C_brig\n",
    "print(\"Затраты для системы с двумя бригадами: %d тыс. руб.\" % zatraty2)"
   ]
  },
  {
   "cell_type": "code",
   "execution_count": 12,
   "id": "dec74e67",
   "metadata": {},
   "outputs": [
    {
     "name": "stdout",
     "output_type": "stream",
     "text": [
      "Затраты для системы с одной бригадой: 9127 тыс. руб.\n"
     ]
    }
   ],
   "source": [
    "print(\"Затраты для системы с одной бригадой: %d тыс. руб.\" % zatraty1)"
   ]
  },
  {
   "cell_type": "code",
   "execution_count": 13,
   "id": "8da89323",
   "metadata": {},
   "outputs": [
    {
     "name": "stdout",
     "output_type": "stream",
     "text": [
      "Экономия: 2754 тыс. руб.\n"
     ]
    }
   ],
   "source": [
    "#Экономия, тыс. рублей\n",
    "print(\"Экономия: %d тыс. руб.\" % (zatraty1 - zatraty2))"
   ]
  }
 ],
 "metadata": {
  "kernelspec": {
   "display_name": "Python 3 (ipykernel)",
   "language": "python",
   "name": "python3"
  },
  "language_info": {
   "codemirror_mode": {
    "name": "ipython",
    "version": 3
   },
   "file_extension": ".py",
   "mimetype": "text/x-python",
   "name": "python",
   "nbconvert_exporter": "python",
   "pygments_lexer": "ipython3",
   "version": "3.9.7"
  }
 },
 "nbformat": 4,
 "nbformat_minor": 5
}
